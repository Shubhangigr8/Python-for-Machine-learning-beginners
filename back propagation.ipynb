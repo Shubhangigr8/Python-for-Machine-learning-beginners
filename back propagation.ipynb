{
 "cells": [
  {
   "cell_type": "code",
   "execution_count": 11,
   "metadata": {},
   "outputs": [
    {
     "name": "stdout",
     "output_type": "stream",
     "text": [
      "[[0.93313066]]\n"
     ]
    }
   ],
   "source": [
    "import numpy as np\n",
    "x=np.array([[0,0],[1,0],[0,1],[1,1]])\n",
    "y=np.array([[0],[1],[1],[0]])\n",
    "def sigmoid(x):\n",
    "    return 1/(1+np.exp(-x))\n",
    "def der_sig(x):\n",
    "    return x*(1-x)\n",
    "epoch=50000\n",
    "lr=0.1\n",
    "ip_neurons=x.shape[1]\n",
    "hidden_neurons=2\n",
    "op_neurons=1\n",
    "wh=np.random.uniform(size=(ip_neurons,hidden_neurons))\n",
    "bh=np.random.uniform(size=(1,hidden_neurons))\n",
    "wout=np.random.uniform(size=(hidden_neurons,op_neurons))\n",
    "bout=np.random.uniform(size=(1,op_neurons))\n",
    "print(bout)"
   ]
  },
  {
   "cell_type": "code",
   "execution_count": 14,
   "metadata": {},
   "outputs": [
    {
     "name": "stdout",
     "output_type": "stream",
     "text": [
      "[[0.00940974]\n",
      " [0.98922373]\n",
      " [0.99108753]\n",
      " [0.00841246]]\n",
      "[[-0.00940974]\n",
      " [ 0.01077627]\n",
      " [ 0.00891247]\n",
      " [-0.00841246]]\n"
     ]
    }
   ],
   "source": [
    "for i in range(epoch):\n",
    "    hidden_layer_ip1=np.dot(x,wh)\n",
    "    hidden_layer_ip=hidden_layer_ip1+bh\n",
    "    hiddenlayer_activations=sigmoid(hidden_layer_ip)\n",
    "    op_layer_ip1=np.dot(hiddenlayer_activations,wout)\n",
    "    op_layer_ip=op_layer_ip1+bout\n",
    "    op=sigmoid(op_layer_ip)\n",
    "    E=y-op\n",
    "    slope_op_layer=der_sig(op)\n",
    "    slope_hidden=der_sig(hiddenlayer_activations)\n",
    "    d_op=E*slope_op_layer\n",
    "    Error_hid=d_op.dot(wout.T)\n",
    "    d_hidden=Error_hid * slope_hidden\n",
    "    wout+=hiddenlayer_activations.T.dot(d_op)*lr\n",
    "    bout+=np.sum(d_op,axis=0,keepdims=True)*lr\n",
    "    #print(np.sum(d_op,axis=0,keepdims=True))*lr\n",
    "    wh+=x.T.dot(d_hidden)*lr\n",
    "    bh+=np.sum(d_hidden,axis=0,keepdims=True)*lr\n",
    "print(op)\n",
    "print(E)\n",
    "    \n",
    "    "
   ]
  },
  {
   "cell_type": "code",
   "execution_count": null,
   "metadata": {},
   "outputs": [],
   "source": []
  }
 ],
 "metadata": {
  "kernelspec": {
   "display_name": "Python 3",
   "language": "python",
   "name": "python3"
  },
  "language_info": {
   "codemirror_mode": {
    "name": "ipython",
    "version": 3
   },
   "file_extension": ".py",
   "mimetype": "text/x-python",
   "name": "python",
   "nbconvert_exporter": "python",
   "pygments_lexer": "ipython3",
   "version": "3.6.2"
  }
 },
 "nbformat": 4,
 "nbformat_minor": 2
}
